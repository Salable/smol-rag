{
 "cells": [
  {
   "cell_type": "code",
   "id": "initial_id",
   "metadata": {
    "collapsed": true,
    "ExecuteTime": {
     "end_time": "2025-04-22T12:59:21.835891Z",
     "start_time": "2025-04-22T12:59:21.762197Z"
    }
   },
   "source": [
    "import networkx as nx\n",
    "from ipysigma import Sigma\n",
    "\n",
    "g = nx.read_graphml('../app/data/kg_db.graphml')\n",
    "\n",
    "# Displaying the graph with a size mapped on degree and\n",
    "# a color mapped on a categorical attribute of the nodes\n",
    "Sigma(\n",
    "    g,\n",
    "    node_size=g.degree,\n",
    "    node_color='category',\n",
    "    node_border_color=\"excerpt_id\",\n",
    "    background_color=\"#ffffff\",\n",
    "    height=800\n",
    ")"
   ],
   "outputs": [
    {
     "data": {
      "text/plain": [
       "Sigma(nx.Graph with 938 nodes and 997 edges)"
      ],
      "application/vnd.jupyter.widget-view+json": {
       "version_major": 2,
       "version_minor": 0,
       "model_id": "98bcd89c7fa341a0b6f2fb4e3b8ec704"
      }
     },
     "execution_count": 5,
     "metadata": {},
     "output_type": "execute_result"
    }
   ],
   "execution_count": 5
  },
  {
   "metadata": {},
   "cell_type": "code",
   "outputs": [],
   "execution_count": null,
   "source": "",
   "id": "382e405336859740"
  }
 ],
 "metadata": {
  "kernelspec": {
   "display_name": "Python 3",
   "language": "python",
   "name": "python3"
  },
  "language_info": {
   "codemirror_mode": {
    "name": "ipython",
    "version": 2
   },
   "file_extension": ".py",
   "mimetype": "text/x-python",
   "name": "python",
   "nbconvert_exporter": "python",
   "pygments_lexer": "ipython2",
   "version": "2.7.6"
  }
 },
 "nbformat": 4,
 "nbformat_minor": 5
}
